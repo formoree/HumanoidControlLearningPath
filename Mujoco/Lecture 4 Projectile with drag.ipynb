{
 "cells": [
  {
   "cell_type": "markdown",
   "id": "2455bf6e",
   "metadata": {},
   "source": [
    "学习 data.qfrc_applied,data.xfrc_applied函数：\n",
    "这两个数据结构在MuJoCo中用于表示外部应用的力。让我为您详细解释它们：\n",
    "\n",
    "1. data.qfrc_applied:\n",
    "\n",
    "   - 含义：表示应用于关节坐标（generalized coordinates）的广义力。\n",
    "   - 维度：与系统的自由度（nv）相同。\n",
    "   - 用途：用于在关节层面应用外部力或力矩。\n",
    "   - 特点：这些力直接作用于系统的动力学方程。\n",
    "\n",
    "2. data.xfrc_applied:\n",
    "\n",
    "   - 含义：表示应用于刚体的外部空间力（spatial force）。\n",
    "   - 维度：6 * nbody（nbody是模型中刚体的数量）。\n",
    "   - 结构：每个刚体有6个分量，前3个是力，后3个是力矩。\n",
    "   - 用途：用于在笛卡尔空间中对刚体应用力和力矩。\n",
    "\n",
    "这两种方法的主要区别：\n",
    "\n",
    "- qfrc_applied 直接作用于关节，更适合模拟关节驱动器或内部力。\n",
    "- xfrc_applied 作用于刚体，更适合模拟外部环境力，如重力、风力等。\n",
    "\n",
    "使用示例：\n",
    "\n",
    "```python\n",
    "import mujoco as mj\n",
    "\n",
    "# 假设我们已经加载了模型和数据\n",
    "model = ...\n",
    "data = ...\n",
    "\n",
    "# 应用关节力\n",
    "data.qfrc_applied[0] = 10  # 对第一个自由度应用10单位的力\n",
    "\n",
    "# 应用刚体力\n",
    "body_id = 1  # 假设我们要对第二个刚体施加力\n",
    "force = [0, 0, 10]  # 10N的向上力\n",
    "torque = [0, 0, 0]  # 无力矩\n",
    "data.xfrc_applied[body_id] = force + torque\n",
    "\n",
    "# 进行仿真步进\n",
    "mj.mj_step(model, data)\n",
    "```\n",
    "\n",
    "注意事项：\n",
    "\n",
    "1. 这些力在每个仿真步骤后会被重置为零，所以如果需要持续应用力，需要在每个步骤中重新设置。\n",
    "2. 使用 xfrc_applied 时，需要注意力和力矩的单位和参考框架。\n",
    "3. 在使用这些数据结构时，确保不会违反模型的约束或导致不稳定的行为。\n",
    "\n",
    "这两种方法提供了灵活的方式来在MuJoCo仿真中应用外部力，可以根据具体需求选择合适的方法。\n"
   ]
  },
  {
   "cell_type": "markdown",
   "id": "cb848747",
   "metadata": {},
   "source": [
    "### Projectile with drag\n",
    "1. change camera\n",
    "2. init_controller()"
   ]
  },
  {
   "cell_type": "code",
   "execution_count": null,
   "id": "41f22d5e",
   "metadata": {},
   "outputs": [],
   "source": [
    "# 这个比较好理解 我们在xyz轴三个方向上给力\n",
    "def controller(model,data):\n",
    "    #put the controller here.This function is called inside the simulation.# pa5s\n",
    "    #Force =-c*Vx*|v|i+-c*vy*|y|j+-c*Vz*|V|kvx = data.qvel[0];\n",
    "    vy = data.qvel[1];\n",
    "    vz = data.gvel[2];\n",
    "    V = np.sqrt(vx**2+vy**2+vz**2)\n",
    "    c=0.25 #表示阻力\n",
    "    data.qfrc_applied[0]=-c*vx*v;\n",
    "    data.qfrc_applied[1]=-c*vy*v;\n",
    "    data.qfrc_applied[2]=-c*vz*v;\n",
    "    # same to  xfrc_applied\n",
    "#     data.qfrc_applied[1][0]=-c*vx*v;\n",
    "#     data.qfrc_applied[1][1]=-c*vy*v;\n",
    "#     data.qfrc_applied[1][2]=-c*vz*v;"
   ]
  },
  {
   "cell_type": "code",
   "execution_count": null,
   "id": "1efcdbd4",
   "metadata": {},
   "outputs": [],
   "source": []
  },
  {
   "cell_type": "code",
   "execution_count": null,
   "id": "4da30348",
   "metadata": {},
   "outputs": [],
   "source": []
  }
 ],
 "metadata": {
  "kernelspec": {
   "display_name": "Python [conda env:mujoco]",
   "language": "python",
   "name": "conda-env-mujoco-py"
  },
  "language_info": {
   "codemirror_mode": {
    "name": "ipython",
    "version": 3
   },
   "file_extension": ".py",
   "mimetype": "text/x-python",
   "name": "python",
   "nbconvert_exporter": "python",
   "pygments_lexer": "ipython3",
   "version": "3.12.4"
  },
  "toc": {
   "base_numbering": 1,
   "nav_menu": {},
   "number_sections": true,
   "sideBar": true,
   "skip_h1_title": false,
   "title_cell": "Table of Contents",
   "title_sidebar": "Contents",
   "toc_cell": false,
   "toc_position": {},
   "toc_section_display": true,
   "toc_window_display": false
  }
 },
 "nbformat": 4,
 "nbformat_minor": 5
}
