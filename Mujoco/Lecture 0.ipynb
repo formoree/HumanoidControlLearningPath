{
 "cells": [
  {
   "cell_type": "markdown",
   "id": "220447a3",
   "metadata": {},
   "source": [
    "# Installation mujoco\n"
   ]
  },
  {
   "cell_type": "markdown",
   "id": "671316be",
   "metadata": {},
   "source": [
    "首先说明一点，我们用pip install mujoco 与现在有zip的mujoco不是同一个东西。最开始学习的时候我把这个弄混淆了。\n",
    "+ mujoco.zip 里面有多个文件，我们可以用simulator.exe文件来可视化XML。我一般直接将xml拖进simulator里面。\n",
    "+ mujoco_python是python的一个包，方便python代码运行的\n",
    "\n",
    "在这里我们讲的是mujoco.zip"
   ]
  },
  {
   "cell_type": "markdown",
   "id": "3c865534",
   "metadata": {},
   "source": [
    "同时在[Windows Installation MuJoCo 2.2.1 (C code), running sample code](https://www.bilibili.com/video/BV1eq4y147EG/?p=17&spm_id_from=pageDriver&vd_source=d6465d96a3edba0296e211b6abb4cf70)补充说明了下载MuJoCo所需要的一些组件"
   ]
  },
  {
   "cell_type": "code",
   "execution_count": null,
   "id": "e7e17874",
   "metadata": {},
   "outputs": [],
   "source": []
  }
 ],
 "metadata": {
  "kernelspec": {
   "display_name": "Python [conda env:mujoco]",
   "language": "python",
   "name": "conda-env-mujoco-py"
  },
  "language_info": {
   "codemirror_mode": {
    "name": "ipython",
    "version": 3
   },
   "file_extension": ".py",
   "mimetype": "text/x-python",
   "name": "python",
   "nbconvert_exporter": "python",
   "pygments_lexer": "ipython3",
   "version": "3.12.4"
  },
  "toc": {
   "base_numbering": 1,
   "nav_menu": {},
   "number_sections": true,
   "sideBar": true,
   "skip_h1_title": false,
   "title_cell": "Table of Contents",
   "title_sidebar": "Contents",
   "toc_cell": false,
   "toc_position": {},
   "toc_section_display": true,
   "toc_window_display": false
  }
 },
 "nbformat": 4,
 "nbformat_minor": 5
}
