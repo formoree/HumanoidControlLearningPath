{
 "cells": [
  {
   "cell_type": "markdown",
   "id": "a71b14c2",
   "metadata": {},
   "source": [
    "## What is the XML file?\n",
    "+ xml files: model and visulization\n",
    "+ use MuJoCo XML documentation to edit .xml files"
   ]
  },
  {
   "cell_type": "markdown",
   "id": "be88d7f5",
   "metadata": {},
   "source": [
    "在这里我并不是制某个课件，我只是想记录我没有学过的点。\n",
    "+ Simulator -> Rendering -> Frame -> World 可以显示xyz轴，其通过rgb颜色来表示。\n",
    "+ 通过改变.xml 中 <conpiler angle=\"\"> 其中参数，可以制定弧度或者度数\n",
    "+ Simulator -> Rendering -> Frame -> Model Elements -> Center of Mas 来可视化质心"
   ]
  },
  {
   "cell_type": "markdown",
   "id": "b16804da",
   "metadata": {
    "ExecuteTime": {
     "end_time": "2024-07-14T14:17:41.862992Z",
     "start_time": "2024-07-14T14:17:41.858262Z"
    }
   },
   "source": [
    "```\n",
    "<body>\n",
    "  <inertial pos=\"0 0 0\" mass=\"1\" diaginertia=\"1 1 1\"/>\n",
    "  ...\n",
    "</body>\n",
    "```"
   ]
  },
  {
   "cell_type": "markdown",
   "id": "407dcb0a",
   "metadata": {},
   "source": [
    "MuJoCo中的inertial是指惯性属性,是描述物体质量分布特性的重要参数。在MuJoCo中,inertial属性通常定义在body元素下: pos指定重心位置,mass指定质量,diaginertia指定惯性张量的对角线元素。"
   ]
  },
  {
   "cell_type": "markdown",
   "id": "4ffd6435",
   "metadata": {},
   "source": [
    "另外还讲解了如何在asset中加入material，并在worldbody中调用的例子"
   ]
  },
  {
   "cell_type": "code",
   "execution_count": null,
   "id": "9d337dd5",
   "metadata": {},
   "outputs": [],
   "source": []
  },
  {
   "cell_type": "code",
   "execution_count": null,
   "id": "27663437",
   "metadata": {},
   "outputs": [],
   "source": []
  },
  {
   "cell_type": "code",
   "execution_count": null,
   "id": "3b499fbd",
   "metadata": {},
   "outputs": [],
   "source": []
  },
  {
   "cell_type": "code",
   "execution_count": null,
   "id": "f3789d85",
   "metadata": {},
   "outputs": [],
   "source": []
  }
 ],
 "metadata": {
  "kernelspec": {
   "display_name": "Python [conda env:mujoco]",
   "language": "python",
   "name": "conda-env-mujoco-py"
  },
  "language_info": {
   "codemirror_mode": {
    "name": "ipython",
    "version": 3
   },
   "file_extension": ".py",
   "mimetype": "text/x-python",
   "name": "python",
   "nbconvert_exporter": "python",
   "pygments_lexer": "ipython3",
   "version": "3.12.4"
  },
  "toc": {
   "base_numbering": 1,
   "nav_menu": {},
   "number_sections": true,
   "sideBar": true,
   "skip_h1_title": false,
   "title_cell": "Table of Contents",
   "title_sidebar": "Contents",
   "toc_cell": false,
   "toc_position": {},
   "toc_section_display": true,
   "toc_window_display": false
  }
 },
 "nbformat": 4,
 "nbformat_minor": 5
}
